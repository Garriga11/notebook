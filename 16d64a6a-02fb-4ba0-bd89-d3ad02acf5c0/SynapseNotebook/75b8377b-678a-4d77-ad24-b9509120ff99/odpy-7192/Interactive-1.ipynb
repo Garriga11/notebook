{
 "cells": [
  {
   "cell_type": "markdown",
   "metadata": {},
   "source": [
    "Connected to odpy (Python 3.12.3)"
   ]
  },
  {
   "cell_type": "code",
   "execution_count": null,
   "id": "8bcf49d4-8df5-43d6-8fe2-a2d87afaedce",
   "metadata": {},
   "outputs": [
    {
     "name": "stderr",
     "output_type": "stream",
     "text": [
      "c:\\Users\\garri\\odpy\\odpy\\Lib\\site-packages\\keras\\src\\layers\\convolutional\\base_conv.py:107: UserWarning: Do not pass an `input_shape`/`input_dim` argument to a layer. When using Sequential models, prefer using an `Input(shape)` object as the first layer in the model instead.\n",
      "  super().__init__(activity_regularizer=activity_regularizer, **kwargs)\n"
     ]
    },
    {
     "name": "stdout",
     "output_type": "stream",
     "text": [
      "Running experiment with ID:  2d56371bcc2b4e378cbc9e5c671ef5e4\n",
      "Epoch 1/5\n",
      "\u001b[1m3/3\u001b[0m \u001b[32m━━━━━━━━━━━━━━━━━━━━\u001b[0m\u001b[37m\u001b[0m \u001b[1m12s\u001b[0m 2s/step - accuracy: 0.4352 - loss: 5.3806 - val_accuracy: 0.1500 - val_loss: 1.3501\n",
      "Epoch 2/5\n",
      "\u001b[1m3/3\u001b[0m \u001b[32m━━━━━━━━━━━━━━━━━━━━\u001b[0m\u001b[37m\u001b[0m \u001b[1m8s\u001b[0m 2s/step - accuracy: 0.3992 - loss: 1.2004 - val_accuracy: 0.3000 - val_loss: 1.0597\n",
      "Epoch 3/5\n",
      "\u001b[1m3/3\u001b[0m \u001b[32m━━━━━━━━━━━━━━━━━━━━\u001b[0m\u001b[37m\u001b[0m \u001b[1m10s\u001b[0m 2s/step - accuracy: 0.3000 - loss: 1.1367 - val_accuracy: 0.3000 - val_loss: 1.3018\n",
      "Epoch 4/5\n",
      "\u001b[1m3/3\u001b[0m \u001b[32m━━━━━━━━━━━━━━━━━━━━\u001b[0m\u001b[37m\u001b[0m \u001b[1m6s\u001b[0m 2s/step - accuracy: 0.4703 - loss: 1.1233 - val_accuracy: 0.3000 - val_loss: 1.1158\n",
      "Epoch 5/5\n",
      "\u001b[1m3/3\u001b[0m \u001b[32m━━━━━━━━━━━━━━━━━━━━\u001b[0m\u001b[37m\u001b[0m \u001b[1m6s\u001b[0m 2s/step - accuracy: 0.4547 - loss: 1.0626 - val_accuracy: 0.5500 - val_loss: 1.0873\n"
     ]
    },
    {
     "name": "stderr",
     "output_type": "stream",
     "text": [
      "2024/10/22 22:16:43 WARNING mlflow.tensorflow: You are saving a TensorFlow Core model or Keras model without a signature. Inference with mlflow.pyfunc.spark_udf() will not work unless the model's pyfunc representation accepts pandas DataFrames as inference inputs.\n",
      "2024/10/22 22:17:02 WARNING mlflow.models.model: Model logged without a signature and input example. Please set `input_example` parameter when logging the model to auto infer the model signature.\n",
      "Successfully registered model 'TireDefectModel'.\n",
      "Created version '1' of model 'TireDefectModel'.\n",
      "WARNING:absl:You are saving your model as an HDF5 file via `model.save()` or `keras.saving.save_model(model)`. This file format is considered legacy. We recommend using instead the native Keras format, e.g. `model.save('my_model.keras')` or `keras.saving.save_model(model, 'my_model.keras')`. \n"
     ]
    },
    {
     "name": "stdout",
     "output_type": "stream",
     "text": [
      "Model saved in run 2d56371bcc2b4e378cbc9e5c671ef5e4\n"
     ]
    }
   ],
   "source": [
    "import mlflow\n",
    "import mlflow.tensorflow\n",
    "import tensorflow as tf\n",
    "from tensorflow.keras import layers, models\n",
    "import numpy as np\n",
    "\n",
    "# Set experiment name in MLflow (it will create if it doesn't exist)\n",
    "EXPERIMENT_NAME = \"Tire Defect Detection\"\n",
    "mlflow.set_experiment(EXPERIMENT_NAME)\n",
    "\n",
    "# Load or generate your data (using random data here for demo)\n",
    "def load_data():\n",
    "    # Dummy dataset, replace with actual data loading\n",
    "    train_images = np.random.rand(100, 224, 224, 3)  # Replace with actual images\n",
    "    train_labels = np.random.randint(0, 3, (100, 1))  # Replace with actual labels\n",
    "    return train_images, train_labels\n",
    "\n",
    "# Example simple CNN model\n",
    "def build_model():\n",
    "    model = models.Sequential([\n",
    "        layers.Conv2D(32, (3, 3), activation='relu', input_shape=(224, 224, 3)),\n",
    "        layers.MaxPooling2D((2, 2)),\n",
    "        layers.Conv2D(64, (3, 3), activation='relu'),\n",
    "        layers.MaxPooling2D((2, 2)),\n",
    "        layers.Conv2D(128, (3, 3), activation='relu'),\n",
    "        layers.MaxPooling2D((2, 2)),\n",
    "        layers.Flatten(),\n",
    "        layers.Dense(128, activation='relu'),\n",
    "        layers.Dense(3, activation='softmax')  # Assuming 3 classes (bentRim, goodTire, cracking)\n",
    "    ])\n",
    "    return model\n",
    "\n",
    "# Training and logging the model in MLflow\n",
    "def train_and_log_model():\n",
    "    train_images, train_labels = load_data()\n",
    "\n",
    "    # Prepare the model\n",
    "    model = build_model()\n",
    "    model.compile(optimizer='adam', loss='sparse_categorical_crossentropy', metrics=['accuracy'])\n",
    "\n",
    "    # MLflow logging\n",
    "    with mlflow.start_run() as run:\n",
    "        print(\"Running experiment with ID: \", run.info.run_id)\n",
    "\n",
    "        # Log parameters (you can log hyperparameters)\n",
    "        mlflow.log_param(\"optimizer\", \"adam\")\n",
    "        mlflow.log_param(\"loss\", \"sparse_categorical_crossentropy\")\n",
    "        mlflow.log_param(\"epochs\", 5)\n",
    "        mlflow.log_param(\"batch_size\", 32)\n",
    "\n",
    "        # Train the model and log training metrics\n",
    "        history = model.fit(train_images, train_labels, epochs=5, batch_size=32, validation_split=0.2)\n",
    "\n",
    "        # Log the model\n",
    "        mlflow.tensorflow.log_model(model, artifact_path=\"model\", registered_model_name=\"TireDefectModel\")\n",
    "\n",
    "        # Log metrics (training accuracy, loss, etc.)\n",
    "        for epoch, acc in enumerate(history.history['accuracy']):\n",
    "            mlflow.log_metric(\"accuracy\", acc, step=epoch)\n",
    "        for epoch, loss in enumerate(history.history['loss']):\n",
    "            mlflow.log_metric(\"loss\", loss, step=epoch)\n",
    "\n",
    "        # Save the final model\n",
    "        model.save(\"tire_defect_detection_model.h5\")\n",
    "        print(f\"Model saved in run {run.info.run_id}\")\n",
    "\n",
    "if __name__ == \"__main__\":\n",
    "    train_and_log_model()"
   ]
  },
  {
   "cell_type": "markdown",
   "metadata": {},
   "source": [
    "No kernel connected"
   ]
  }
 ],
 "metadata": {
  "kernelspec": {
   "display_name": "odpy",
   "language": "python",
   "name": "python3"
  },
  "language_info": {
   "name": "python",
   "version": "3.12.3"
  }
 },
 "nbformat": 4,
 "nbformat_minor": 2
}
